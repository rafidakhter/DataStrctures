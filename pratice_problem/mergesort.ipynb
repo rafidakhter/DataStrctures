{
 "metadata": {
  "language_info": {
   "codemirror_mode": {
    "name": "ipython",
    "version": 3
   },
   "file_extension": ".py",
   "mimetype": "text/x-python",
   "name": "python",
   "nbconvert_exporter": "python",
   "pygments_lexer": "ipython3",
   "version": "3.8.2-final"
  },
  "orig_nbformat": 2,
  "kernelspec": {
   "name": "python_defaultSpec_1600702012090",
   "display_name": "Python 3.8.2 32-bit"
  }
 },
 "nbformat": 4,
 "nbformat_minor": 2,
 "cells": [
  {
   "cell_type": "code",
   "execution_count": 60,
   "metadata": {},
   "outputs": [],
   "source": [
    "def findMedian(array1,array2):\n",
    "    sortedArray=sortedAry(array1,array2)\n",
    "    medLoc=len(sortedArray)/2\n",
    "    if medLoc%2==0:\n",
    "        return sortedArray,sortedArray[medLoc]\n",
    "    else:\n",
    "        return sortedArray,(sortedArray[int(medLoc+.5)]+sortedArray[int(medLoc+.5)])/2"
   ]
  },
  {
   "source": [
    "   def sortedAry(array1,array2):\n",
    "        #if the arrays are empty returns the corresponding array\n",
    "        if len(array1)==0:\n",
    "            return num2\n",
    "        elif len(array2)==0:\n",
    "            return num1\n",
    "        \n",
    "        sortAry=[]\n",
    "        array2Item=array2[0]\n",
    "        array1Item=array1[0]\n",
    "\n",
    "        #while loop will be excicuted until the arrays areempty\n",
    "        while array1 or array2:\n",
    "\n",
    "        #compares the first item each array which ever is smaller gets appended to sortAry\n",
    "            if array1 and array1Item<=array2Item:\n",
    "                array1Item=array1.pop(0)\n",
    "                sortAry.append(array1Item)\n",
    "                if not array1:\n",
    "                    pass\n",
    "                else:\n",
    "                    array1Item=array1[0]\n",
    "                \n",
    "            else:    \n",
    "                array2Item=array2.pop(0)\n",
    "                sortAry.append(array2Item)\n",
    "                if not array2:\n",
    "                    pass\n",
    "                else:\n",
    "                    array1Item=array2[0]\n",
    "        return sortAry"
   ],
   "cell_type": "code",
   "metadata": {},
   "execution_count": 61,
   "outputs": []
  },
  {
   "cell_type": "code",
   "execution_count": 64,
   "metadata": {
    "tags": []
   },
   "outputs": [],
   "source": [
    "num1=[1,2,3]\n",
    "num2=[4,5,6,7,8]\n"
   ]
  },
  {
   "cell_type": "code",
   "execution_count": 65,
   "metadata": {
    "tags": []
   },
   "outputs": [
    {
     "output_type": "error",
     "ename": "IndexError",
     "evalue": "pop from empty list",
     "traceback": [
      "\u001b[1;31m---------------------------------------------------------------------------\u001b[0m",
      "\u001b[1;31mIndexError\u001b[0m                                Traceback (most recent call last)",
      "\u001b[1;32m<ipython-input-65-64ccff28fa82>\u001b[0m in \u001b[0;36m<module>\u001b[1;34m\u001b[0m\n\u001b[1;32m----> 1\u001b[1;33m \u001b[0mprint\u001b[0m\u001b[1;33m(\u001b[0m\u001b[0mfindMedian\u001b[0m\u001b[1;33m(\u001b[0m\u001b[0mnum1\u001b[0m\u001b[1;33m,\u001b[0m\u001b[0mnum2\u001b[0m\u001b[1;33m)\u001b[0m\u001b[1;33m)\u001b[0m\u001b[1;33m\u001b[0m\u001b[1;33m\u001b[0m\u001b[0m\n\u001b[0m",
      "\u001b[1;32m<ipython-input-60-8f55932bea65>\u001b[0m in \u001b[0;36mfindMedian\u001b[1;34m(array1, array2)\u001b[0m\n\u001b[0;32m      1\u001b[0m \u001b[1;32mdef\u001b[0m \u001b[0mfindMedian\u001b[0m\u001b[1;33m(\u001b[0m\u001b[0marray1\u001b[0m\u001b[1;33m,\u001b[0m\u001b[0marray2\u001b[0m\u001b[1;33m)\u001b[0m\u001b[1;33m:\u001b[0m\u001b[1;33m\u001b[0m\u001b[1;33m\u001b[0m\u001b[0m\n\u001b[1;32m----> 2\u001b[1;33m     \u001b[0msortedArray\u001b[0m\u001b[1;33m=\u001b[0m\u001b[0msortedAry\u001b[0m\u001b[1;33m(\u001b[0m\u001b[0marray1\u001b[0m\u001b[1;33m,\u001b[0m\u001b[0marray2\u001b[0m\u001b[1;33m)\u001b[0m\u001b[1;33m\u001b[0m\u001b[1;33m\u001b[0m\u001b[0m\n\u001b[0m\u001b[0;32m      3\u001b[0m     \u001b[0mmedLoc\u001b[0m\u001b[1;33m=\u001b[0m\u001b[0mlen\u001b[0m\u001b[1;33m(\u001b[0m\u001b[0msortedArray\u001b[0m\u001b[1;33m)\u001b[0m\u001b[1;33m/\u001b[0m\u001b[1;36m2\u001b[0m\u001b[1;33m\u001b[0m\u001b[1;33m\u001b[0m\u001b[0m\n\u001b[0;32m      4\u001b[0m     \u001b[1;32mif\u001b[0m \u001b[0mmedLoc\u001b[0m\u001b[1;33m%\u001b[0m\u001b[1;36m2\u001b[0m\u001b[1;33m==\u001b[0m\u001b[1;36m0\u001b[0m\u001b[1;33m:\u001b[0m\u001b[1;33m\u001b[0m\u001b[1;33m\u001b[0m\u001b[0m\n\u001b[0;32m      5\u001b[0m         \u001b[1;32mreturn\u001b[0m \u001b[0msortedArray\u001b[0m\u001b[1;33m,\u001b[0m\u001b[0msortedArray\u001b[0m\u001b[1;33m[\u001b[0m\u001b[0mmedLoc\u001b[0m\u001b[1;33m]\u001b[0m\u001b[1;33m\u001b[0m\u001b[1;33m\u001b[0m\u001b[0m\n",
      "\u001b[1;32m<ipython-input-61-1d0e684e0ddc>\u001b[0m in \u001b[0;36msortedAry\u001b[1;34m(array1, array2)\u001b[0m\n\u001b[0;32m     15\u001b[0m      \u001b[1;31m#compares the first item each array which ever is smaller gets appended to sortAry\u001b[0m\u001b[1;33m\u001b[0m\u001b[1;33m\u001b[0m\u001b[1;33m\u001b[0m\u001b[0m\n\u001b[0;32m     16\u001b[0m          \u001b[1;32mif\u001b[0m \u001b[0marray1\u001b[0m \u001b[1;32mor\u001b[0m \u001b[0marray1Item\u001b[0m\u001b[1;33m<=\u001b[0m\u001b[0marray2Item\u001b[0m\u001b[1;33m:\u001b[0m\u001b[1;33m\u001b[0m\u001b[1;33m\u001b[0m\u001b[0m\n\u001b[1;32m---> 17\u001b[1;33m              \u001b[0marray1Item\u001b[0m\u001b[1;33m=\u001b[0m\u001b[0marray1\u001b[0m\u001b[1;33m.\u001b[0m\u001b[0mpop\u001b[0m\u001b[1;33m(\u001b[0m\u001b[1;36m0\u001b[0m\u001b[1;33m)\u001b[0m\u001b[1;33m\u001b[0m\u001b[1;33m\u001b[0m\u001b[0m\n\u001b[0m\u001b[0;32m     18\u001b[0m              \u001b[0msortAry\u001b[0m\u001b[1;33m.\u001b[0m\u001b[0mappend\u001b[0m\u001b[1;33m(\u001b[0m\u001b[0marray1Item\u001b[0m\u001b[1;33m)\u001b[0m\u001b[1;33m\u001b[0m\u001b[1;33m\u001b[0m\u001b[0m\n\u001b[0;32m     19\u001b[0m              \u001b[1;32mif\u001b[0m \u001b[1;32mnot\u001b[0m \u001b[0marray1\u001b[0m\u001b[1;33m:\u001b[0m\u001b[1;33m\u001b[0m\u001b[1;33m\u001b[0m\u001b[0m\n",
      "\u001b[1;31mIndexError\u001b[0m: pop from empty list"
     ]
    }
   ],
   "source": [
    "print(findMedian(num1,num2))"
   ]
  },
  {
   "cell_type": "code",
   "execution_count": null,
   "metadata": {},
   "outputs": [],
   "source": []
  },
  {
   "cell_type": "code",
   "execution_count": null,
   "metadata": {},
   "outputs": [],
   "source": []
  }
 ]
}