{
 "metadata": {
  "language_info": {
   "codemirror_mode": {
    "name": "ipython",
    "version": 3
   },
   "file_extension": ".py",
   "mimetype": "text/x-python",
   "name": "python",
   "nbconvert_exporter": "python",
   "pygments_lexer": "ipython3",
   "version": "3.8.2-final"
  },
  "orig_nbformat": 2,
  "kernelspec": {
   "name": "python_defaultSpec_1600811471744",
   "display_name": "Python 3.8.2 32-bit"
  }
 },
 "nbformat": 4,
 "nbformat_minor": 2,
 "cells": [
  {
   "cell_type": "code",
   "execution_count": 1,
   "metadata": {},
   "outputs": [],
   "source": [
    "class Node():\n",
    "    def __init__(self,data=None):\n",
    "        self.data=data\n",
    "        self.left=None\n",
    "        self.right=None\n"
   ]
  },
  {
   "cell_type": "code",
   "execution_count": 2,
   "metadata": {},
   "outputs": [],
   "source": [
    "class BinarySearchTree():\n",
    "    def __init__(self):\n",
    "        self.root=None\n",
    "\n",
    "    def insert(self,data):\n",
    "\n",
    "        newNode=Node(data)\n",
    "\n",
    "        if(self.root==None):\n",
    "            self.root=newNode\n",
    "            print(f\"root {self.root.data}\")\n",
    "            return \n",
    "        else:   \n",
    "            currentNode=self.root\n",
    "            while True:\n",
    "                if data<currentNode.data:\n",
    "                    #go left\n",
    "                    if currentNode.left==None:\n",
    "                        currentNode.left=newNode\n",
    "                        print(f\"added to the left of {currentNode.data}\")\n",
    "                        return\n",
    "                    currentNode=currentNode.left\n",
    "                else:\n",
    "                    if currentNode.right==None:\n",
    "                        currentNode.right=newNode\n",
    "                        print(f\"added to the rigth of {currentNode.data}\")\n",
    "                        return\n",
    "                    currentNode=currentNode.right"
   ]
  },
  {
   "cell_type": "code",
   "execution_count": 3,
   "metadata": {
    "tags": []
   },
   "outputs": [],
   "source": [
    "tree= BinarySearchTree()"
   ]
  },
  {
   "cell_type": "code",
   "execution_count": 6,
   "metadata": {
    "tags": []
   },
   "outputs": [
    {
     "output_type": "stream",
     "name": "stdout",
     "text": "added to the left of 9\nadded to the rigth of 9\nadded to the rigth of 4\n"
    }
   ],
   "source": [
    "tree.insert(4)\n",
    "tree.insert(9)\n",
    "tree.insert(5)"
   ]
  },
  {
   "cell_type": "code",
   "execution_count": null,
   "metadata": {},
   "outputs": [],
   "source": []
  }
 ]
}